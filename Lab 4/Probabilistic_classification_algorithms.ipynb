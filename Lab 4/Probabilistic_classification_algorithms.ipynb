{
  "cells": [
    {
      "cell_type": "markdown",
      "metadata": {
        "id": "QVcJ5tf341U6"
      },
      "source": [
        "# Probabilistic classification algorithms"
      ]
    },
    {
      "cell_type": "markdown",
      "metadata": {
        "id": "OwKCheEV41U7"
      },
      "source": [
        "In this tutorial we will implement a Naive Bayes classifier for text classification. More specifically, the aim of the classifier is to predict whether a given product review is positive or negative.\n",
        "\n",
        "We will represent documents (i.e. product reviews) as vectors of binary features. For each [unigram or bigram](https://en.wikipedia.org/wiki/N-gram) that appears in at least one document in our training dataset we introduce a binary feature. For a given document a feature is 1 if the documents contains the corresponding unigram/bigram, and it is 0 otherwise.\n",
        "\n",
        "The datasets are contained in four files ('test.negative', 'test.positive', 'train.negative', 'train.positive'). The files correspond to product reviews from the test and train datasets labelled positively or negatively. For example, the file 'test.negative' contains negative product reviews from the test dataset.\n",
        "\n",
        "The reviews are preprocessed and expressed as a list of unigrams and bigrams without duplications (for a bigram (w1,w2), the corresponding record is w1__w2). Each review is represented as a single line and features (unigrams and bigrams) extracted from that review are listed space delimited. Take a moment to inspect the content of the dataset files."
      ]
    },
    {
      "cell_type": "code",
      "execution_count": 2,
      "metadata": {
        "id": "aB6IWzRt41U8"
      },
      "outputs": [],
      "source": [
        "import numpy as np"
      ]
    },
    {
      "cell_type": "markdown",
      "metadata": {
        "id": "-yVBVT7841U8"
      },
      "source": [
        "1. First, we read the training data, compute feature statistics, and store it in a [dictionary](https://docs.python.org/3/tutorial/datastructures.html#dictionaries) $\\texttt{featureStat}$, where $\\texttt{featureStat[feature][classLabel]}$ is equal to the number of documents in the class $\\texttt{classLabel}$ that contain $\\texttt{feature}$. We also compute the total number of positive train instances and the total number of negative train instances."
      ]
    },
    {
      "cell_type": "code",
      "execution_count": 3,
      "metadata": {
        "id": "02McDNw041U8"
      },
      "outputs": [],
      "source": [
        "def count(featureStat, fname, classLabel):\n",
        "    numInstances = 0\n",
        "    with open(fname) as file:\n",
        "        for line in file:\n",
        "            numInstances += 1\n",
        "            for feature in line.strip().split():\n",
        "                if feature not in featureStat:\n",
        "                    featureStat[feature] = {0:0, 1:0}\n",
        "                featureStat[feature][classLabel] += 1\n",
        "    return numInstances"
      ]
    },
    {
      "cell_type": "code",
      "execution_count": 4,
      "metadata": {
        "id": "5BlkebgO41U8"
      },
      "outputs": [],
      "source": [
        "featureStat = {}\n",
        "numPositiveInstances = count(featureStat, \"Probabilistic classification algorithms/train.positive\", 1)\n",
        "numNegativeInstances = count(featureStat, \"Probabilistic classification algorithms/train.negative\", 0)"
      ]
    },
    {
      "cell_type": "markdown",
      "metadata": {
        "id": "ftrl0enx41U9"
      },
      "source": [
        "2. Now, compute the conditional probabilities $P(w_i = 1 | C = c)$, i.e. probability of specific feature $w_i$ to be present in a document from class $c$. Use Laplace smooting to avoid zero probabilities."
      ]
    },
    {
      "cell_type": "code",
      "execution_count": 4,
      "metadata": {
        "id": "x8c7NN7C41U9"
      },
      "outputs": [],
      "source": [
        "def compute_conditional_probabilities(featureStat, numPositiveInstances, numNegativeInstances):\n",
        "    conditionalProb = {}\n",
        "\n",
        "    for feature, counts in featureStat.items():\n",
        "        conditionalProb[feature] = {\n",
        "            1: (counts[1] + 1) / (numPositiveInstances + 2),\n",
        "            0: (counts[0] + 1) / (numNegativeInstances + 2),\n",
        "        }\n",
        "    \n",
        "    return conditionalProb"
      ]
    },
    {
      "cell_type": "code",
      "execution_count": 10,
      "metadata": {},
      "outputs": [],
      "source": [
        "conditionalProb =  compute_conditional_probabilities(featureStat, numPositiveInstances, numNegativeInstances)"
      ]
    },
    {
      "cell_type": "markdown",
      "metadata": {
        "id": "WoQniWW141U9"
      },
      "source": [
        "3. Implement a Naive Bayes classfier function that predicts whether a given document belongs to the positive or the negative class. To avoid problems of very small numbers, instead of computing $P(C=c) \\cdot \\prod_i P(w_i = a_i| C=c)$ cosider computing the $\\log$ of that."
      ]
    },
    {
      "cell_type": "code",
      "execution_count": 6,
      "metadata": {
        "id": "xv2ZJFgs41U9"
      },
      "outputs": [],
      "source": [
        "def predict_naive_bayes(document, conditionalProb, numPositiveInstances, numNegativeInstances):\n",
        "    \"\"\"Predicts the class (0: negative, 1: positive) of a given document.\"\"\"\n",
        "    \n",
        "    # Prior probabilities with Laplace smoothing\n",
        "    totalInstances = numPositiveInstances + numNegativeInstances\n",
        "    logPriorPositive = np.log(numPositiveInstances / totalInstances + 2)\n",
        "    logPriorNegative = np.log(numNegativeInstances / totalInstances)\n",
        "\n",
        "    # Compute log probabilities\n",
        "    logProbPositive = logPriorPositive\n",
        "    logProbNegative = logPriorNegative\n",
        "\n",
        "    for feature in conditionalProb:\n",
        "        if feature in document:\n",
        "            logProbPositive += np.log(conditionalProb[feature][1])\n",
        "            logProbNegative += np.log(conditionalProb[feature][0])\n",
        "        else:\n",
        "            logProbPositive += np.log(1 - conditionalProb[feature][1])\n",
        "            logProbNegative += np.log(1 - conditionalProb[feature][0])\n",
        "    \n",
        "    # Return the predicted class (1 for positive, 0 for negative)\n",
        "    return 1 if logProbPositive > logProbNegative else 0\n"
      ]
    },
    {
      "cell_type": "markdown",
      "metadata": {
        "id": "QuSWcrjS41U9"
      },
      "source": [
        "4. Let's now read the test dataset from the files"
      ]
    },
    {
      "cell_type": "code",
      "execution_count": null,
      "metadata": {
        "id": "6Va1LAcC41U9"
      },
      "outputs": [],
      "source": [
        "def getInstances(fname, classLabel):\n",
        "    data = []\n",
        "    with open(fname) as file:\n",
        "        for line in file:\n",
        "            data.append((classLabel, line.strip().split()))\n",
        "    return data\n",
        "\n",
        "# Read test data\n",
        "test_data = getInstances(\"Probabilistic classification algorithms/test.positive\", 1)\n",
        "test_data.extend(getInstances(\"Probabilistic classification algorithms/test.negative\", 0))"
      ]
    },
    {
      "cell_type": "markdown",
      "metadata": {
        "id": "955ANuRr41U-"
      },
      "source": [
        "4. Evaluate accuracy of the Naive Bayes algorithm on the test data"
      ]
    },
    {
      "cell_type": "code",
      "execution_count": 11,
      "metadata": {
        "id": "-bd0-J-T41U-"
      },
      "outputs": [],
      "source": [
        "def evaluate_naive_bayes(conditionalProb, numPositiveInstances, numNegativeInstances):\n",
        "    \"\"\"Evaluates the accuracy of the Naive Bayes classifier on test data.\"\"\"\n",
        "    correct_predictions = 0\n",
        "    total_predictions = 0\n",
        "\n",
        "    for (classLabel, document) in test_data:\n",
        "        prediction = predict_naive_bayes(document, conditionalProb, numPositiveInstances, numNegativeInstances)\n",
        "        if prediction == classLabel:\n",
        "            correct_predictions += 1\n",
        "        total_predictions += 1\n",
        "\n",
        "    accuracy = correct_predictions / total_predictions\n",
        "    return accuracy"
      ]
    },
    {
      "cell_type": "code",
      "execution_count": 12,
      "metadata": {},
      "outputs": [
        {
          "data": {
            "text/plain": [
              "0.7939698492462312"
            ]
          },
          "execution_count": 12,
          "metadata": {},
          "output_type": "execute_result"
        }
      ],
      "source": [
        "evaluate_naive_bayes(conditionalProb, numPositiveInstances, numNegativeInstances)"
      ]
    },
    {
      "cell_type": "markdown",
      "metadata": {
        "id": "N2tALSEh41U-"
      },
      "source": [
        "5. Modify the code and see what happens if we do not use Laplace smoothing"
      ]
    }
  ],
  "metadata": {
    "colab": {
      "provenance": []
    },
    "kernelspec": {
      "display_name": "Python 3",
      "language": "python",
      "name": "python3"
    },
    "language_info": {
      "codemirror_mode": {
        "name": "ipython",
        "version": 3
      },
      "file_extension": ".py",
      "mimetype": "text/x-python",
      "name": "python",
      "nbconvert_exporter": "python",
      "pygments_lexer": "ipython3",
      "version": "3.13.1"
    }
  },
  "nbformat": 4,
  "nbformat_minor": 0
}
